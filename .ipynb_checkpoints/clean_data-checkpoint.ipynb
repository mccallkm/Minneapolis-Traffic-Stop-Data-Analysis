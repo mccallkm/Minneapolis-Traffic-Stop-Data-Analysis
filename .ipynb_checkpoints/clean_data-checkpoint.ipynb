{
 "cells": [
  {
   "cell_type": "code",
   "execution_count": 1,
   "metadata": {},
   "outputs": [],
   "source": [
    "import matplotlib.pyplot as plt\n",
    "import pandas as pd\n",
    "import numpy as np\n",
    "from datetime import datetime"
   ]
  },
  {
   "cell_type": "markdown",
   "metadata": {},
   "source": [
    "Read data from csv file "
   ]
  },
  {
   "cell_type": "code",
   "execution_count": 2,
   "metadata": {
    "scrolled": true
   },
   "outputs": [
    {
     "data": {
      "text/html": [
       "<div>\n",
       "<style scoped>\n",
       "    .dataframe tbody tr th:only-of-type {\n",
       "        vertical-align: middle;\n",
       "    }\n",
       "\n",
       "    .dataframe tbody tr th {\n",
       "        vertical-align: top;\n",
       "    }\n",
       "\n",
       "    .dataframe thead th {\n",
       "        text-align: right;\n",
       "    }\n",
       "</style>\n",
       "<table border=\"1\" class=\"dataframe\">\n",
       "  <thead>\n",
       "    <tr style=\"text-align: right;\">\n",
       "      <th></th>\n",
       "      <th>OBJECTID</th>\n",
       "      <th>masterIncidentNumber</th>\n",
       "      <th>responseDate</th>\n",
       "      <th>reason</th>\n",
       "      <th>problem</th>\n",
       "      <th>callDisposition</th>\n",
       "      <th>citationIssued</th>\n",
       "      <th>personSearch</th>\n",
       "      <th>vehicleSearch</th>\n",
       "      <th>preRace</th>\n",
       "      <th>race</th>\n",
       "      <th>gender</th>\n",
       "      <th>lat</th>\n",
       "      <th>long</th>\n",
       "      <th>x</th>\n",
       "      <th>y</th>\n",
       "      <th>policePrecinct</th>\n",
       "      <th>neighborhood</th>\n",
       "      <th>lastUpdateDate</th>\n",
       "    </tr>\n",
       "  </thead>\n",
       "  <tbody>\n",
       "    <tr>\n",
       "      <th>0</th>\n",
       "      <td>1001</td>\n",
       "      <td>16-406479</td>\n",
       "      <td>2016-11-09T17:43:21.000Z</td>\n",
       "      <td>NaN</td>\n",
       "      <td>Attempt Pick-Up (P)</td>\n",
       "      <td>BKG-Booking</td>\n",
       "      <td>NaN</td>\n",
       "      <td>YES</td>\n",
       "      <td>NO</td>\n",
       "      <td>Native American</td>\n",
       "      <td>Native American</td>\n",
       "      <td>Male</td>\n",
       "      <td>44.949552</td>\n",
       "      <td>-93.281346</td>\n",
       "      <td>-1.038403e+07</td>\n",
       "      <td>5.613583e+06</td>\n",
       "      <td>5.0</td>\n",
       "      <td>Whittier</td>\n",
       "      <td>2017-08-08T10:24:35.000Z</td>\n",
       "    </tr>\n",
       "    <tr>\n",
       "      <th>1</th>\n",
       "      <td>1002</td>\n",
       "      <td>16-406495</td>\n",
       "      <td>2016-11-09T17:58:28.000Z</td>\n",
       "      <td>NaN</td>\n",
       "      <td>Suspicious Vehicle (P)</td>\n",
       "      <td>ADV-Advised</td>\n",
       "      <td>NaN</td>\n",
       "      <td>NO</td>\n",
       "      <td>NO</td>\n",
       "      <td>Unknown</td>\n",
       "      <td>Black</td>\n",
       "      <td>Male</td>\n",
       "      <td>45.014157</td>\n",
       "      <td>-93.308244</td>\n",
       "      <td>-1.038703e+07</td>\n",
       "      <td>5.623750e+06</td>\n",
       "      <td>4.0</td>\n",
       "      <td>Cleveland</td>\n",
       "      <td>2017-08-08T10:24:35.000Z</td>\n",
       "    </tr>\n",
       "    <tr>\n",
       "      <th>2</th>\n",
       "      <td>1003</td>\n",
       "      <td>16-406507</td>\n",
       "      <td>2016-11-09T18:04:48.000Z</td>\n",
       "      <td>NaN</td>\n",
       "      <td>Suspicious Vehicle (P)</td>\n",
       "      <td>GOA-Gone on Arrival</td>\n",
       "      <td>NaN</td>\n",
       "      <td>NaN</td>\n",
       "      <td>NaN</td>\n",
       "      <td>NaN</td>\n",
       "      <td>NaN</td>\n",
       "      <td>NaN</td>\n",
       "      <td>44.995210</td>\n",
       "      <td>-93.299420</td>\n",
       "      <td>-1.038604e+07</td>\n",
       "      <td>5.620767e+06</td>\n",
       "      <td>4.0</td>\n",
       "      <td>Near - North</td>\n",
       "      <td>2017-08-08T10:25:31.000Z</td>\n",
       "    </tr>\n",
       "    <tr>\n",
       "      <th>3</th>\n",
       "      <td>1004</td>\n",
       "      <td>16-406526</td>\n",
       "      <td>2016-11-09T18:20:12.000Z</td>\n",
       "      <td>NaN</td>\n",
       "      <td>Traffic Law Enforcement (P)</td>\n",
       "      <td>NaN</td>\n",
       "      <td>NaN</td>\n",
       "      <td>NaN</td>\n",
       "      <td>NaN</td>\n",
       "      <td>NaN</td>\n",
       "      <td>NaN</td>\n",
       "      <td>NaN</td>\n",
       "      <td>44.982470</td>\n",
       "      <td>-93.244000</td>\n",
       "      <td>-1.037987e+07</td>\n",
       "      <td>5.618762e+06</td>\n",
       "      <td>2.0</td>\n",
       "      <td>Marcy Holmes</td>\n",
       "      <td>2017-08-08T10:25:31.000Z</td>\n",
       "    </tr>\n",
       "    <tr>\n",
       "      <th>4</th>\n",
       "      <td>1005</td>\n",
       "      <td>16-406555</td>\n",
       "      <td>2016-11-09T18:40:01.000Z</td>\n",
       "      <td>NaN</td>\n",
       "      <td>Suspicious Vehicle (P)</td>\n",
       "      <td>AOK- All OK</td>\n",
       "      <td>NaN</td>\n",
       "      <td>NO</td>\n",
       "      <td>NO</td>\n",
       "      <td>Unknown</td>\n",
       "      <td>Unknown</td>\n",
       "      <td>Unknown</td>\n",
       "      <td>44.911719</td>\n",
       "      <td>-93.216454</td>\n",
       "      <td>-1.037681e+07</td>\n",
       "      <td>5.607634e+06</td>\n",
       "      <td>3.0</td>\n",
       "      <td>Minnehaha</td>\n",
       "      <td>2017-08-08T10:25:03.000Z</td>\n",
       "    </tr>\n",
       "  </tbody>\n",
       "</table>\n",
       "</div>"
      ],
      "text/plain": [
       "   OBJECTID masterIncidentNumber              responseDate reason  \\\n",
       "0      1001            16-406479  2016-11-09T17:43:21.000Z    NaN   \n",
       "1      1002            16-406495  2016-11-09T17:58:28.000Z    NaN   \n",
       "2      1003            16-406507  2016-11-09T18:04:48.000Z    NaN   \n",
       "3      1004            16-406526  2016-11-09T18:20:12.000Z    NaN   \n",
       "4      1005            16-406555  2016-11-09T18:40:01.000Z    NaN   \n",
       "\n",
       "                       problem      callDisposition citationIssued  \\\n",
       "0          Attempt Pick-Up (P)          BKG-Booking            NaN   \n",
       "1       Suspicious Vehicle (P)          ADV-Advised            NaN   \n",
       "2       Suspicious Vehicle (P)  GOA-Gone on Arrival            NaN   \n",
       "3  Traffic Law Enforcement (P)                  NaN            NaN   \n",
       "4       Suspicious Vehicle (P)          AOK- All OK            NaN   \n",
       "\n",
       "  personSearch vehicleSearch          preRace             race   gender  \\\n",
       "0          YES            NO  Native American  Native American     Male   \n",
       "1           NO            NO          Unknown            Black     Male   \n",
       "2          NaN           NaN              NaN              NaN      NaN   \n",
       "3          NaN           NaN              NaN              NaN      NaN   \n",
       "4           NO            NO          Unknown          Unknown  Unknown   \n",
       "\n",
       "         lat       long             x             y  policePrecinct  \\\n",
       "0  44.949552 -93.281346 -1.038403e+07  5.613583e+06             5.0   \n",
       "1  45.014157 -93.308244 -1.038703e+07  5.623750e+06             4.0   \n",
       "2  44.995210 -93.299420 -1.038604e+07  5.620767e+06             4.0   \n",
       "3  44.982470 -93.244000 -1.037987e+07  5.618762e+06             2.0   \n",
       "4  44.911719 -93.216454 -1.037681e+07  5.607634e+06             3.0   \n",
       "\n",
       "   neighborhood            lastUpdateDate  \n",
       "0      Whittier  2017-08-08T10:24:35.000Z  \n",
       "1     Cleveland  2017-08-08T10:24:35.000Z  \n",
       "2  Near - North  2017-08-08T10:25:31.000Z  \n",
       "3  Marcy Holmes  2017-08-08T10:25:31.000Z  \n",
       "4     Minnehaha  2017-08-08T10:25:03.000Z  "
      ]
     },
     "execution_count": 2,
     "metadata": {},
     "output_type": "execute_result"
    }
   ],
   "source": [
    "stop_file = \"static/data/Police_Stop_data.csv\"\n",
    "stop_df=pd.read_csv(stop_file)\n",
    "stop_df.head()"
   ]
  },
  {
   "cell_type": "markdown",
   "metadata": {},
   "source": [
    "# Reduce Columns\n",
    "Reduce the columns to those needed and eliminate rows with null gender  \n",
    "check count to confirm later operations  "
   ]
  },
  {
   "cell_type": "code",
   "execution_count": 20,
   "metadata": {},
   "outputs": [
    {
     "data": {
      "text/html": [
       "<div>\n",
       "<style scoped>\n",
       "    .dataframe tbody tr th:only-of-type {\n",
       "        vertical-align: middle;\n",
       "    }\n",
       "\n",
       "    .dataframe tbody tr th {\n",
       "        vertical-align: top;\n",
       "    }\n",
       "\n",
       "    .dataframe thead th {\n",
       "        text-align: right;\n",
       "    }\n",
       "</style>\n",
       "<table border=\"1\" class=\"dataframe\">\n",
       "  <thead>\n",
       "    <tr style=\"text-align: right;\">\n",
       "      <th></th>\n",
       "      <th>OBJECTID</th>\n",
       "      <th>responseDate</th>\n",
       "      <th>citationIssued</th>\n",
       "      <th>lat</th>\n",
       "      <th>long</th>\n",
       "      <th>gender</th>\n",
       "      <th>neighborhood</th>\n",
       "    </tr>\n",
       "  </thead>\n",
       "  <tbody>\n",
       "    <tr>\n",
       "      <th>0</th>\n",
       "      <td>1001</td>\n",
       "      <td>2016-11-09T17:43:21.000Z</td>\n",
       "      <td>NaN</td>\n",
       "      <td>44.949552</td>\n",
       "      <td>-93.281346</td>\n",
       "      <td>Male</td>\n",
       "      <td>Whittier</td>\n",
       "    </tr>\n",
       "    <tr>\n",
       "      <th>1</th>\n",
       "      <td>1002</td>\n",
       "      <td>2016-11-09T17:58:28.000Z</td>\n",
       "      <td>NaN</td>\n",
       "      <td>45.014157</td>\n",
       "      <td>-93.308244</td>\n",
       "      <td>Male</td>\n",
       "      <td>Cleveland</td>\n",
       "    </tr>\n",
       "    <tr>\n",
       "      <th>4</th>\n",
       "      <td>1005</td>\n",
       "      <td>2016-11-09T18:40:01.000Z</td>\n",
       "      <td>NaN</td>\n",
       "      <td>44.911719</td>\n",
       "      <td>-93.216454</td>\n",
       "      <td>Unknown</td>\n",
       "      <td>Minnehaha</td>\n",
       "    </tr>\n",
       "    <tr>\n",
       "      <th>5</th>\n",
       "      <td>1006</td>\n",
       "      <td>2016-11-09T18:40:44.000Z</td>\n",
       "      <td>NaN</td>\n",
       "      <td>44.976087</td>\n",
       "      <td>-93.277436</td>\n",
       "      <td>Male</td>\n",
       "      <td>Downtown West</td>\n",
       "    </tr>\n",
       "    <tr>\n",
       "      <th>6</th>\n",
       "      <td>1007</td>\n",
       "      <td>2016-11-09T18:51:47.000Z</td>\n",
       "      <td>NaN</td>\n",
       "      <td>44.959130</td>\n",
       "      <td>-93.288030</td>\n",
       "      <td>Male</td>\n",
       "      <td>Lowry Hill East</td>\n",
       "    </tr>\n",
       "  </tbody>\n",
       "</table>\n",
       "</div>"
      ],
      "text/plain": [
       "   OBJECTID              responseDate citationIssued        lat       long  \\\n",
       "0      1001  2016-11-09T17:43:21.000Z            NaN  44.949552 -93.281346   \n",
       "1      1002  2016-11-09T17:58:28.000Z            NaN  45.014157 -93.308244   \n",
       "4      1005  2016-11-09T18:40:01.000Z            NaN  44.911719 -93.216454   \n",
       "5      1006  2016-11-09T18:40:44.000Z            NaN  44.976087 -93.277436   \n",
       "6      1007  2016-11-09T18:51:47.000Z            NaN  44.959130 -93.288030   \n",
       "\n",
       "    gender     neighborhood  \n",
       "0     Male         Whittier  \n",
       "1     Male        Cleveland  \n",
       "4  Unknown        Minnehaha  \n",
       "5     Male    Downtown West  \n",
       "6     Male  Lowry Hill East  "
      ]
     },
     "execution_count": 20,
     "metadata": {},
     "output_type": "execute_result"
    }
   ],
   "source": [
    "      #select needed columns\n",
    "select_df=stop_df.loc[:,[\"OBJECTID\", \"responseDate\",\"citationIssued\",\"lat\",\"long\",\"gender\",\"neighborhood\"]]\n",
    "\n",
    "# remove null gender values\n",
    "reduced_df=select_df.dropna(axis=0,subset=['gender'])\n",
    "reduced_df.head()"
   ]
  },
  {
   "cell_type": "markdown",
   "metadata": {},
   "source": [
    "# Get a list of neighborhoods"
   ]
  },
  {
   "cell_type": "code",
   "execution_count": 29,
   "metadata": {},
   "outputs": [
    {
     "data": {
      "text/plain": [
       "102                          Longfellow\n",
       "103                           Lynnhurst\n",
       "105                            Beltrami\n",
       "109                         Elliot Park\n",
       "110                            Harrison\n",
       "111                       East Phillips\n",
       "117                         Morris Park\n",
       "118         Nicollet Island - East Bank\n",
       "127                     Powderhorn Park\n",
       "131                          Logan Park\n",
       "132                            Northrop\n",
       "137                             Holland\n",
       "140                              Bryant\n",
       "141                          Tangletown\n",
       "155                            Sheridan\n",
       "166                                 NaN\n",
       "168     Prospect Park - East River Road\n",
       "185                                Page\n",
       "195                      Northeast Park\n",
       "211                   Sumner - Glenwood\n",
       "261                       Columbia Park\n",
       "264                           Keewaydin\n",
       "280                          East Isles\n",
       "285                            Corcoran\n",
       "306                            Hiawatha\n",
       "322                            Bancroft\n",
       "332               Mid - City Industrial\n",
       "348                       Downtown East\n",
       "407                            McKinley\n",
       "415                    Marshall Terrace\n",
       "437                   Camden Industrial\n",
       "485                             Kenwood\n",
       "486                              Fulton\n",
       "514                        Linden Hills\n",
       "524                          Lowry Hill\n",
       "688                             Wenonah\n",
       "699                              Regina\n",
       "744                       Shingle Creek\n",
       "777                        East Harriet\n",
       "834                                Hale\n",
       "847                            Armatage\n",
       "858                               Kenny\n",
       "880                            Ericsson\n",
       "930                Cedar - Isles - Dean\n",
       "951                        West Calhoun\n",
       "1270                             Cooper\n",
       "1317                        Bryn - Mawr\n",
       "2595            University of Minnesota\n",
       "4425                              Field\n",
       "5897           Humboldt Industrial Area\n",
       "Name: neighborhood, dtype: object"
      ]
     },
     "execution_count": 29,
     "metadata": {},
     "output_type": "execute_result"
    }
   ],
   "source": [
    "#Get a listing and count of neighborhoods\n",
    "neighbor_df=reduced_df[\"neighborhood\"]\n",
    "neighborhood_df=neighbor_df.drop_duplicates()\n",
    "neighborhood.df=neighbor_df.dropna()\n",
    "neighborhood_df.tail(50)"
   ]
  },
  {
   "cell_type": "code",
   "execution_count": 27,
   "metadata": {},
   "outputs": [],
   "source": [
    "neighborhood_df.to_csv(\"static/data/neighborhood_data.csv\", index=False,header=True)"
   ]
  },
  {
   "cell_type": "markdown",
   "metadata": {},
   "source": [
    "# modify Gender \n",
    "combine gender Unknown and Gender Non-Conforming into gender Other"
   ]
  },
  {
   "cell_type": "code",
   "execution_count": null,
   "metadata": {},
   "outputs": [],
   "source": [
    "pd.options.mode.chained_assignment = None  # default='warn'\n",
    "#fill in Unknown vaue with Other\n",
    "reduced_df.loc[reduced_df.gender==\"Unknown\",\"gender\"] = \"Other\"\n",
    "      # fill in Gender Non-Conforming values with other\n",
    "reduced_df.loc[reduced_df.gender ==\"Gender Non-Conforming\",\"gender\"] = \"Other\"\n",
    "reduced_df.head()"
   ]
  },
  {
   "cell_type": "code",
   "execution_count": null,
   "metadata": {},
   "outputs": [],
   "source": [
    "#what gender values are present ?\n",
    "#verify count\n",
    "gender=reduced_df.groupby([\"gender\"]).count()\n",
    "gender"
   ]
  },
  {
   "cell_type": "markdown",
   "metadata": {},
   "source": [
    "# Modify citationIssued \n",
    "change NaN to NO"
   ]
  },
  {
   "cell_type": "code",
   "execution_count": null,
   "metadata": {},
   "outputs": [],
   "source": [
    "# change null citationIssued to NO\n",
    "reduced_df[[\"citationIssued\"]]=reduced_df[[\"citationIssued\"]].fillna(value='NO')\n",
    "reduced_df.head()"
   ]
  },
  {
   "cell_type": "code",
   "execution_count": null,
   "metadata": {},
   "outputs": [],
   "source": [
    "#what gender values are present ?\n",
    "# verify count\n",
    "citation=reduced_df.groupby([\"citationIssued\"]).count()\n",
    "citation"
   ]
  },
  {
   "cell_type": "markdown",
   "metadata": {},
   "source": [
    "# Parse date\n",
    "responseDow = day of the week  \n",
    "responseDay = day of the month as zero padded decimal  \n",
    "responseDonth = month as a zero padded decimal  \n",
    "responseMonthName= month as abbreviated name  \n",
    "responseYear  "
   ]
  },
  {
   "cell_type": "code",
   "execution_count": null,
   "metadata": {},
   "outputs": [],
   "source": [
    "#parse date\n",
    "date_list= [datetime.strptime( entry,\"%Y-%m-%dT%H:%M:%S.000Z\") for entry in reduced_df[\"responseDate\"]]\n",
    "# determine response day of week\n",
    "dow_list= [datetime.strftime(entry,\"%w\") for entry in date_list]\n",
    "\n",
    "# split off response day, month and year\n",
    "day_list = [datetime.strftime(entry,\"%d\") for entry in date_list]\n",
    "month_list=[datetime.strftime(entry,\"%m\") for entry in date_list]\n",
    "month_name_list=[datetime.strftime(entry,\"%b\") for entry in date_list]\n",
    "year_list= [datetime.strftime(entry,\"%Y\") for entry in date_list]\n",
    "\n",
    "#add column to reduced_df\n",
    "reduced_df.loc[:,\"responseDow\"]=dow_list\n",
    "reduced_df.loc[:,\"responseDay\"]=day_list\n",
    "reduced_df.loc[:,\"responseMonth\"]=month_list\n",
    "reduced_df.loc[:,\"responseMonthName\"]=month_name_list\n",
    "reduced_df.loc[:,\"responseYear\"]=year_list\n",
    "reduced_df.head()"
   ]
  },
  {
   "cell_type": "markdown",
   "metadata": {},
   "source": [
    "# Deliver clean stop data\n",
    "to file \"static/data/clean_data.csv\"  \n",
    "or to database"
   ]
  },
  {
   "cell_type": "code",
   "execution_count": null,
   "metadata": {},
   "outputs": [],
   "source": [
    "reduced_df.to_csv(\"static/data/clean_stop_data.csv\", index=False,header=True)"
   ]
  },
  {
   "cell_type": "markdown",
   "metadata": {},
   "source": [
    "# Prep responseDow data\n",
    "get count by neighborhood, responseDow and gender"
   ]
  },
  {
   "cell_type": "code",
   "execution_count": null,
   "metadata": {},
   "outputs": [],
   "source": [
    "# get count of genders by neighborhood and responseDow\n",
    "group_df=reduced_df.groupby([\"neighborhood\",\"responseDow\",\"gender\"]).count()\n",
    "group_df.head()"
   ]
  },
  {
   "cell_type": "code",
   "execution_count": null,
   "metadata": {},
   "outputs": [],
   "source": [
    "# remove indexing rename columns and reduce columns\n",
    "new_group=group_df.reset_index()\n",
    "next_group=new_group.rename(columns={\"OBJECTID\":\"genderCount\"})\n",
    "dow_group=next_group[[\"neighborhood\",\"responseDow\",\"gender\",\"genderCount\"]]\n",
    "dow_group.head()"
   ]
  },
  {
   "cell_type": "markdown",
   "metadata": {},
   "source": [
    "# Deliver clean day of week data  \n",
    "to file \"static/data/dow_clean_data.csv\" \n",
    "or database"
   ]
  },
  {
   "cell_type": "code",
   "execution_count": null,
   "metadata": {},
   "outputs": [],
   "source": [
    "# write ad csv file -- json file doesn't come out right\n",
    "dow_group.to_csv(\"static/data/clean_dow_data.csv\" ,index=False, header=True)"
   ]
  },
  {
   "cell_type": "code",
   "execution_count": null,
   "metadata": {},
   "outputs": [],
   "source": []
  }
 ],
 "metadata": {
  "kernelspec": {
   "display_name": "Python 3",
   "language": "python",
   "name": "python3"
  },
  "language_info": {
   "codemirror_mode": {
    "name": "ipython",
    "version": 3
   },
   "file_extension": ".py",
   "mimetype": "text/x-python",
   "name": "python",
   "nbconvert_exporter": "python",
   "pygments_lexer": "ipython3",
   "version": "3.6.5"
  }
 },
 "nbformat": 4,
 "nbformat_minor": 2
}
